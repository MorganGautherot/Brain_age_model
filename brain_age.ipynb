{
 "cells": [
  {
   "cell_type": "markdown",
   "metadata": {},
   "source": [
    "# Training a brain age model"
   ]
  },
  {
   "cell_type": "markdown",
   "metadata": {},
   "source": [
    "## Packages importation"
   ]
  },
  {
   "cell_type": "code",
   "execution_count": 1,
   "metadata": {},
   "outputs": [
    {
     "ename": "ImportError",
     "evalue": "cannot import name 'coordinateTransformWrapper' from 'data_augmentation' (/NAS/deathrow/morgan/Documents/dev/brain_age/data_augmentation/GitHub/data_augmentation.py)",
     "output_type": "error",
     "traceback": [
      "\u001b[0;31m---------------------------------------------------------------------------\u001b[0m",
      "\u001b[0;31mImportError\u001b[0m                               Traceback (most recent call last)",
      "\u001b[0;32m<ipython-input-1-ac32b2c9514d>\u001b[0m in \u001b[0;36m<module>\u001b[0;34m\u001b[0m\n\u001b[1;32m     21\u001b[0m \u001b[0;31m# Own bibli\u001b[0m\u001b[0;34m\u001b[0m\u001b[0;34m\u001b[0m\u001b[0;34m\u001b[0m\u001b[0m\n\u001b[1;32m     22\u001b[0m \u001b[0;32mfrom\u001b[0m \u001b[0mcallbacks\u001b[0m \u001b[0;32mimport\u001b[0m \u001b[0mSaveMetrics\u001b[0m\u001b[0;34m\u001b[0m\u001b[0;34m\u001b[0m\u001b[0m\n\u001b[0;32m---> 23\u001b[0;31m \u001b[0;32mfrom\u001b[0m \u001b[0mgenerators\u001b[0m \u001b[0;32mimport\u001b[0m \u001b[0mgenerator_mri_regression_norm\u001b[0m\u001b[0;34m,\u001b[0m \u001b[0mgenerator_mri_regression_norm_aug\u001b[0m\u001b[0;34m\u001b[0m\u001b[0;34m\u001b[0m\u001b[0m\n\u001b[0m\u001b[1;32m     24\u001b[0m \u001b[0;32mfrom\u001b[0m \u001b[0mregression\u001b[0m \u001b[0;32mimport\u001b[0m \u001b[0mmodel_Cole\u001b[0m\u001b[0;34m\u001b[0m\u001b[0;34m\u001b[0m\u001b[0m\n\u001b[1;32m     25\u001b[0m \u001b[0;34m\u001b[0m\u001b[0m\n",
      "\u001b[0;32m/NAS/deathrow/morgan/Documents/dev/brain_age/data_augmentation/GitHub/generators.py\u001b[0m in \u001b[0;36m<module>\u001b[0;34m\u001b[0m\n\u001b[1;32m      2\u001b[0m \u001b[0;32mimport\u001b[0m \u001b[0mnibabel\u001b[0m \u001b[0;32mas\u001b[0m \u001b[0mnib\u001b[0m\u001b[0;34m\u001b[0m\u001b[0;34m\u001b[0m\u001b[0m\n\u001b[1;32m      3\u001b[0m \u001b[0;32mimport\u001b[0m \u001b[0mmath\u001b[0m\u001b[0;34m\u001b[0m\u001b[0;34m\u001b[0m\u001b[0m\n\u001b[0;32m----> 4\u001b[0;31m \u001b[0;32mfrom\u001b[0m \u001b[0mdata_augmentation\u001b[0m \u001b[0;32mimport\u001b[0m \u001b[0mcoordinateTransformWrapper\u001b[0m\u001b[0;34m,\u001b[0m \u001b[0mcoordinateTransformWrapperReg\u001b[0m\u001b[0;34m\u001b[0m\u001b[0;34m\u001b[0m\u001b[0m\n\u001b[0m\u001b[1;32m      5\u001b[0m \u001b[0;34m\u001b[0m\u001b[0m\n\u001b[1;32m      6\u001b[0m \u001b[0;34m\u001b[0m\u001b[0m\n",
      "\u001b[0;31mImportError\u001b[0m: cannot import name 'coordinateTransformWrapper' from 'data_augmentation' (/NAS/deathrow/morgan/Documents/dev/brain_age/data_augmentation/GitHub/data_augmentation.py)"
     ]
    }
   ],
   "source": [
    "import nibabel as nib\n",
    "import pandas as pd\n",
    "import glob \n",
    "import math\n",
    "import numpy as np\n",
    "import tensorflow as tf\n",
    "import datetime\n",
    "import os\n",
    "import sys\n",
    "import seaborn as sns\n",
    "import matplotlib.pyplot as plt\n",
    "import random\n",
    "from scipy.stats import pearsonr\n",
    "import matplotlib.pyplot as plt\n",
    "\n",
    "# Sklearn\n",
    "from sklearn.model_selection import train_test_split\n",
    "from sklearn.model_selection import KFold\n",
    "from sklearn.metrics import mean_absolute_error\n",
    "\n",
    "# Own bibli\n",
    "from callbacks import SaveMetrics\n",
    "from generators import generator_mri_regression_norm, generator_mri_regression_norm_aug\n",
    "from regression import model_Cole\n",
    "\n",
    "# Tensorflow special importation\n",
    "from tensorflow.keras.optimizers import Adagrad\n",
    "from tensorflow.keras.callbacks import ModelCheckpoint"
   ]
  },
  {
   "cell_type": "markdown",
   "metadata": {},
   "source": [
    "## Hyperparameters"
   ]
  },
  {
   "cell_type": "code",
   "execution_count": null,
   "metadata": {},
   "outputs": [],
   "source": [
    "SIZE = (182, 218, 182, 1)\n",
    "LR = 0.001\n",
    "BATCH_SIZE = 8"
   ]
  },
  {
   "cell_type": "markdown",
   "metadata": {},
   "source": [
    "## Data importation"
   ]
  },
  {
   "cell_type": "code",
   "execution_count": null,
   "metadata": {},
   "outputs": [],
   "source": [
    "data_frame_train = pd.read_csv('YOUR_TRAIN_SET')\n",
    "data_frame_test = pd.read_csv('YOUR_TEST_SET')"
   ]
  },
  {
   "cell_type": "markdown",
   "metadata": {},
   "source": [
    "## Callback initialization"
   ]
  },
  {
   "cell_type": "code",
   "execution_count": null,
   "metadata": {},
   "outputs": [],
   "source": [
    "# Call back initialization\n",
    "training_path = 'YOUR_TRAINING_PATH'\n",
    "os.system('mkdir '+training_path)\n",
    "\n",
    "save_metrics = SaveMetrics(training_path)\n",
    "\n",
    "filepath=training_path+\"/model_saved/\"\n",
    "os.system(\"mkdir \"+filepath)\n",
    "\n",
    "checkpoint = ModelCheckpoint(filepath+\"weights-{epoch:02d}-{val_mae:.2f}.hdf5\", monitor='val_mae', verbose=1, save_best_only=True, mode='min')\n",
    "\n",
    "callbacks_list = [checkpoint, save_metrics]"
   ]
  },
  {
   "cell_type": "markdown",
   "metadata": {},
   "source": [
    "## Generator initialization"
   ]
  },
  {
   "cell_type": "code",
   "execution_count": null,
   "metadata": {},
   "outputs": [],
   "source": [
    "model = model_Cole(SIZE)\n",
    "\n",
    "my_generator_train = generator_mri_regression_norm_aug(list_path=data_frame_train.loc[:, ['path', 'age']], batch_size=BATCH_SIZE, shuffle=True, norm=True)\n",
    "\n",
    "my_generator_test = generator_mri_regression_norm(list_path=data_frame_test.loc[:, ['path', 'age']], batch_size=BATCH_SIZE, shuffle=True, norm=True)\n",
    "\n",
    "model.compile(loss=['mae'],\n",
    "              optimizer=Adagrad(LR),\n",
    "              metrics=['mae'])"
   ]
  },
  {
   "cell_type": "markdown",
   "metadata": {},
   "source": [
    "## Training"
   ]
  },
  {
   "cell_type": "code",
   "execution_count": null,
   "metadata": {},
   "outputs": [],
   "source": [
    "model.fit_generator(generator=my_generator_train.loader(),\n",
    "                    steps_per_epoch=my_generator_train.get_len(),\n",
    "                    epochs=300, \n",
    "                    verbose=1,\n",
    "                    validation_data=my_generator_test.loader(),\n",
    "                    validation_steps=my_generator_test.get_len(), \n",
    "                    validation_freq=1,\n",
    "                    shuffle=True,\n",
    "                    initial_epoch=0,\n",
    "                    callbacks=callbacks_list)"
   ]
  }
 ],
 "metadata": {
  "kernelspec": {
   "display_name": "Python 3",
   "language": "python",
   "name": "python3"
  },
  "language_info": {
   "codemirror_mode": {
    "name": "ipython",
    "version": 3
   },
   "file_extension": ".py",
   "mimetype": "text/x-python",
   "name": "python",
   "nbconvert_exporter": "python",
   "pygments_lexer": "ipython3",
   "version": "3.8.5"
  }
 },
 "nbformat": 4,
 "nbformat_minor": 2
}
